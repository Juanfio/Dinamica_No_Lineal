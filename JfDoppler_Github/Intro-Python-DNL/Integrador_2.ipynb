{
 "cells": [
  {
   "cell_type": "code",
   "execution_count": 1,
   "metadata": {},
   "outputs": [],
   "source": [
    "import numpy as np\n",
    "from scipy.integrate import odeint, ode\n",
    "import matplotlib.pyplot as plt"
   ]
  },
  {
   "cell_type": "code",
   "execution_count": 2,
   "metadata": {},
   "outputs": [],
   "source": [
    "# Sistema de ecuaciones\n",
    "def f(t, z):\n",
    "    x = z[0]\n",
    "    y = z[1]\n",
    "    dxdt = x-y\n",
    "    dydt = x**2-4\n",
    "    return [dxdt, dydt]"
   ]
  },
  {
   "cell_type": "code",
   "execution_count": 4,
   "metadata": {},
   "outputs": [
    {
     "data": {
      "image/png": "[encoded data removed]",
      "text/plain": [
       "<Figure size 432x288 with 1 Axes>"
      ]
     },
     "metadata": {
      "needs_background": "light"
     },
     "output_type": "display_data"
    },
    {
     "name": "stdout",
     "output_type": "stream",
     "text": [
      "<matplotlib.contour.QuadContourSet object at 0x0000000008A13B70>\n"
     ]
    }
   ],
   "source": [
    "# Nulclinas\n",
    "XX, YY = np.meshgrid(np.arange(-10, 10, .01), np.arange(-10, 10, .01))\n",
    "DX, DY = f(0, [XX, YY])\n",
    "\n",
    "nulx = plt.contour(XX, YY, DX, levels=[0], colors='red', linestyles='dashed')\n",
    "plt.clabel(nulx, nulx.levels, fmt='$\\dot{x}=0$')\n",
    "nuly = plt.contour(XX, YY, DY, levels=[0], colors='black', linestyles='dashed')\n",
    "plt.clabel(nuly, nuly.levels, fmt='$\\dot{y}=0$')\n",
    "plt.show ()"
   ]
  },
  {
   "cell_type": "code",
   "execution_count": 8,
   "metadata": {},
   "outputs": [
    {
     "data": {
      "image/png": "[encoded data removed]",
      "text/plain": [
       "<Figure size 432x288 with 1 Axes>"
      ]
     },
     "metadata": {
      "needs_background": "light"
     },
     "output_type": "display_data"
    }
   ],
   "source": [
    "# Puntos fijos\n",
    "def abs_deriv(x, y):\n",
    "    dx, dy = f(0, [x, y])\n",
    "    return(np.sqrt(dx**2+dy**2))\n",
    "\n",
    "cmap = plt.gray()\n",
    "im = plt.imshow(DX**2+DY**2, interpolation='bilinear', origin='lower',\n",
    "                cmap=cmap, extent=(-10, 10, -10, 10))\n",
    "plt.show ()"
   ]
  },
  {
   "cell_type": "code",
   "execution_count": null,
   "metadata": {},
   "outputs": [
    {
     "name": "stderr",
     "output_type": "stream",
     "text": [
      "C:\\ProgramData\\Anaconda3\\lib\\site-packages\\scipy\\integrate\\odepack.py:236: ODEintWarning: Excess work done on this call (perhaps wrong Dfun type). Run with full_output = 1 to get quantitative information.\n",
      "  warnings.warn(warning_msg, ODEintWarning)\n",
      "C:\\ProgramData\\Anaconda3\\lib\\site-packages\\matplotlib\\transforms.py:2943: RuntimeWarning: overflow encountered in double_scalars\n",
      "  elif vmax - vmin <= maxabsvalue * tiny:\n",
      "C:\\ProgramData\\Anaconda3\\lib\\site-packages\\matplotlib\\axes\\_base.py:2532: RuntimeWarning: overflow encountered in double_scalars\n",
      "  delta = (x1t - x0t) * margin\n"
     ]
    }
   ],
   "source": [
    "# Integracion odeint\n",
    "dt = 0.001\n",
    "tmax = 10\n",
    "t = np.arange(0, tmax, dt)\n",
    "tpre = -10\n",
    "tant = np.arange(0, tpre, -dt)\n",
    "Xi = np.linspace(-4, 4, 4)\n",
    "Yi = np.linspace(-4, 4, 4)\n",
    "plt.figure()\n",
    "for xi in Xi:\n",
    "    for yi in Yi:\n",
    "        plt.scatter(xi, yi)\n",
    "        zi = [xi, yi]\n",
    "        sol_fut = odeint(f, zi, t, tfirst=True)\n",
    "        sol_pas = odeint(f, zi, tant, tfirst=True)\n",
    "        x_fut = sol_fut[:, 0]\n",
    "        x_pas = sol_pas[:, 0][::-1]\n",
    "        xt = np.concatenate((x_pas, x_fut))\n",
    "        y_fut = sol_fut[:, 1]\n",
    "        y_pas = sol_pas[:, 1][::-1]\n",
    "        yt = np.concatenate((y_pas, y_fut))\n",
    "        plt.plot(xt, yt)\n",
    "X = np.linspace(-10, 10, 8)\n",
    "Y = np.linspace(-10, 10, 8)\n",
    "XX, YY = np.meshgrid(X, Y)\n",
    "DX, DY = f(0, [XX, YY])\n",
    "plt.streamplot(XX, YY, DX, DY, density=.5, minlength=.1)\n",
    "plt.xlim(-10, 10)\n",
    "plt.ylim(-10, 10)"
   ]
  },
  {
   "cell_type": "code",
   "execution_count": null,
   "metadata": {},
   "outputs": [],
   "source": [
    "# Integracion rk"
   ]
  },
  {
   "cell_type": "code",
   "execution_count": null,
   "metadata": {},
   "outputs": [],
   "source": [
    "dt = 0.01\n",
    "tmax = 10\n",
    "t = np.arange(0, tmax, dt)\n",
    "tpre = -10\n",
    "solver = ode(f).set_integrator('dopri5')\n",
    "tant = np.arange(0, tpre, -dt)\n",
    "Xi = np.linspace(-4, 4, 4)\n",
    "Yi = np.linspace(-4, 4, 4)\n",
    "plt.figure()\n",
    "for xi in Xi:\n",
    "    for yi in Yi:\n",
    "        zi = [xi, yi]\n",
    "        solver.set_initial_value(zi, 0)\n",
    "        xt = np.zeros_like(t)\n",
    "        xt.fill(np.nan)\n",
    "        yt = np.zeros_like(t)\n",
    "        yt.fill(np.nan)\n",
    "        for ix, tt in enumerate(t):\n",
    "            xt[ix], yt[ix] = solver.integrate(t[ix])\n",
    "        line = plt.plot(xt, yt)\n",
    "        c = line[0].get_color()\n",
    "        dxi, dyi = f(0, zi)\n",
    "        plt.arrow(xi, yi, dxi*dt, dyi*dt, shape='full', lw=0,\n",
    "                  length_includes_head=True, head_width=.4, color=c)\n",
    "        solver.set_initial_value(zi, 0)\n",
    "        xant = np.zeros_like(tant)\n",
    "        xant.fill(np.nan)\n",
    "        yant = np.zeros_like(tant)\n",
    "        yant.fill(np.nan)\n",
    "        for ix, tt in enumerate(tant):\n",
    "            xant[ix], yant[ix] = solver.integrate(tant[ix])\n",
    "        plt.plot(xant, yant, color=c)\n",
    "plt.xlim(-10, 10)\n",
    "plt.ylim(-10, 10)\n"
   ]
  },
  {
   "cell_type": "code",
   "execution_count": null,
   "metadata": {},
   "outputs": [],
   "source": [
    "# Linealizacion\n",
    "def J(x, y):\n",
    "    return np.matrix(([1, -1], [2*x, 0]))\n",
    "\n",
    "\n",
    "fp = [[-2, -2], [2, 2]]"
   ]
  }
 ],
 "metadata": {
  "kernelspec": {
   "display_name": "Python 3",
   "language": "python",
   "name": "python3"
  },
  "language_info": {
   "codemirror_mode": {
    "name": "ipython",
    "version": 3
   },
   "file_extension": ".py",
   "mimetype": "text/x-python",
   "name": "python",
   "nbconvert_exporter": "python",
   "pygments_lexer": "ipython3",
   "version": "3.7.0"
  }
 },
 "nbformat": 4,
 "nbformat_minor": 2
}
