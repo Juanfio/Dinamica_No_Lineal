{
 "cells": [
  {
   "cell_type": "code",
   "execution_count": 1,
   "metadata": {},
   "outputs": [],
   "source": [
    "import numpy as np\n",
    "from scipy.integrate import odeint, ode\n",
    "import matplotlib.pyplot as plt"
   ]
  },
  {
   "cell_type": "markdown",
   "metadata": {},
   "source": [
    "### Problema 6"
   ]
  },
  {
   "cell_type": "code",
   "execution_count": null,
   "metadata": {},
   "outputs": [
    {
     "name": "stderr",
     "output_type": "stream",
     "text": [
      "C:\\ProgramData\\Anaconda3\\lib\\site-packages\\scipy\\integrate\\_ode.py:1177: UserWarning: dopri5: step size becomes too small\n",
      "  self.messages.get(istate, unexpected_istate_msg)))\n",
      "C:\\ProgramData\\Anaconda3\\lib\\site-packages\\scipy\\integrate\\_ode.py:1177: UserWarning: dopri5: larger nsteps is needed\n",
      "  self.messages.get(istate, unexpected_istate_msg)))\n"
     ]
    }
   ],
   "source": [
    "def f_c(t, z):\n",
    "    x = z[0]\n",
    "    y = z[1]\n",
    "    dxdt = y + a*x\n",
    "    dydt = -x + a*y - x**2*y\n",
    "    return [dxdt, dydt]\n",
    "## ---------------------- ** -------------------- ##\n",
    "# Integración rk\n",
    "\n",
    "a = -5 # CON UN VALOR COMO POSITIVO (5) SE FUE AL CARAJO VEEEEER.\n",
    "dt = 0.001\n",
    "tmax = 10\n",
    "t = np.arange(0, tmax, dt)\n",
    "tpre = -10\n",
    "# Este es un integrador. Integra la función \"f\" utilizando el método \"dopri5\". \n",
    "# https://docs.scipy.org/doc/scipy/reference/generated/scipy.integrate.ode.html\n",
    "solver = ode(f_c).set_integrator('dopri5')\n",
    "tant = np.arange(0, tpre, -dt)\n",
    "Xi = np.linspace(-4, 4, 4)\n",
    "Yi = np.linspace(-4, 4, 4)\n",
    "plt.figure()\n",
    "for xi in Xi:\n",
    "    for yi in Yi:\n",
    "        zi = [xi, yi]\n",
    "        solver.set_initial_value(zi, 0)\n",
    "        # Armo 2 arrays + lleno de ceros al principio y después lleno de \"nan\".\n",
    "        xt = np.zeros_like(t)\n",
    "        xt.fill(np.nan)\n",
    "        yt = np.zeros_like(t)\n",
    "        yt.fill(np.nan)\n",
    "        \n",
    "        for ix, tt in enumerate(t):\n",
    "            xt[ix], yt[ix] = solver.integrate(t[ix]) # Supongo que aca comienzo a integrar la función \"f\".\n",
    "        line = plt.plot(xt, yt)\n",
    "        c = line[0].get_color()\n",
    "        dxi, dyi = f_c(0, zi)\n",
    "        plt.arrow(xi, yi, dxi*dt, dyi*dt, shape='full', lw=0,\n",
    "                  length_includes_head=True, head_width=.9, color=c)\n",
    "        \n",
    "        # Lo mismo que antes pero ahora integro hacia el pasado.\n",
    "        solver.set_initial_value(zi, 0)\n",
    "        xant = np.zeros_like(tant)\n",
    "        xant.fill(np.nan)\n",
    "        yant = np.zeros_like(tant)\n",
    "        yant.fill(np.nan)\n",
    "        for ix, tt in enumerate(tant):\n",
    "            xant[ix], yant[ix] = solver.integrate(tant[ix])\n",
    "        plt.plot(xant, yant, color=c)\n",
    "plt.xlim(-20, 20)\n",
    "plt.ylim(-20, 20)\n",
    "## ---------------------- ** -------------------- ##\n",
    "\n",
    "plt.title (\"Integración rk G3P12\")\n",
    "plt.grid ()"
   ]
  },
  {
   "cell_type": "markdown",
   "metadata": {},
   "source": [
    "### Problema 7"
   ]
  },
  {
   "cell_type": "code",
   "execution_count": 30,
   "metadata": {},
   "outputs": [
    {
     "data": {
      "image/png": "[encoded data removed]",
      "text/plain": [
       "<Figure size 432x288 with 1 Axes>"
      ]
     },
     "metadata": {
      "needs_background": "light"
     },
     "output_type": "display_data"
    }
   ],
   "source": [
    "x = np.linspace (-10,10,1000)\n",
    "y1 = lambda x:(b-x)*(1+x)\n",
    "y2 = lambda x: x/(a*(1+x))\n",
    "b = 0\n",
    "a = 1/15\n",
    "plt.plot (x,y1(x))\n",
    "plt.plot (x,y2(x))\n",
    "plt.xlim (-1.2,0.2)\n",
    "plt.ylim (-50,50)\n",
    "plt.grid ()\n",
    "plt.show ()"
   ]
  },
  {
   "cell_type": "code",
   "execution_count": null,
   "metadata": {},
   "outputs": [
    {
     "name": "stderr",
     "output_type": "stream",
     "text": [
      "C:\\ProgramData\\Anaconda3\\lib\\site-packages\\scipy\\integrate\\_ode.py:1177: UserWarning: dopri5: step size becomes too small\n",
      "  self.messages.get(istate, unexpected_istate_msg)))\n",
      "C:\\ProgramData\\Anaconda3\\lib\\site-packages\\scipy\\integrate\\_ode.py:1177: UserWarning: dopri5: larger nsteps is needed\n",
      "  self.messages.get(istate, unexpected_istate_msg)))\n"
     ]
    }
   ],
   "source": [
    "def f_c(t, z):\n",
    "    x = z[0]\n",
    "    y = z[1]\n",
    "    dxdt = x*(b-x-y/(1+x))\n",
    "    dydt = y*(x/(1+x)-a*y)\n",
    "    return [dxdt, dydt]\n",
    "## ---------------------- ** -------------------- ##\n",
    "# Integración rk\n",
    "\n",
    "a = 1/5\n",
    "b = 2\n",
    "dt = 0.001\n",
    "tmax = 10\n",
    "t = np.arange(0, tmax, dt)\n",
    "tpre = -10\n",
    "# Este es un integrador. Integra la función \"f\" utilizando el método \"dopri5\". \n",
    "# https://docs.scipy.org/doc/scipy/reference/generated/scipy.integrate.ode.html\n",
    "solver = ode(f_c).set_integrator('dopri5')\n",
    "tant = np.arange(0, tpre, -dt)\n",
    "Xi = np.linspace(-4, 4, 4)\n",
    "Yi = np.linspace(-4, 4, 4)\n",
    "plt.figure()\n",
    "for xi in Xi:\n",
    "    for yi in Yi:\n",
    "        zi = [xi, yi]\n",
    "        solver.set_initial_value(zi, 0)\n",
    "        # Armo 2 arrays + lleno de ceros al principio y después lleno de \"nan\".\n",
    "        xt = np.zeros_like(t)\n",
    "        xt.fill(np.nan)\n",
    "        yt = np.zeros_like(t)\n",
    "        yt.fill(np.nan)\n",
    "        \n",
    "        for ix, tt in enumerate(t):\n",
    "            xt[ix], yt[ix] = solver.integrate(t[ix]) # Supongo que aca comienzo a integrar la función \"f\".\n",
    "        line = plt.plot(xt, yt)\n",
    "        c = line[0].get_color()\n",
    "        dxi, dyi = f_c(0, zi)\n",
    "        plt.arrow(xi, yi, dxi*dt, dyi*dt, shape='full', lw=0,\n",
    "                  length_includes_head=True, head_width=.9, color=c)\n",
    "        \n",
    "        # Lo mismo que antes pero ahora integro hacia el pasado.\n",
    "        solver.set_initial_value(zi, 0)\n",
    "        xant = np.zeros_like(tant)\n",
    "        xant.fill(np.nan)\n",
    "        yant = np.zeros_like(tant)\n",
    "        yant.fill(np.nan)\n",
    "        for ix, tt in enumerate(tant):\n",
    "            xant[ix], yant[ix] = solver.integrate(tant[ix])\n",
    "        plt.plot(xant, yant, color=c)\n",
    "plt.xlim(-20, 20)\n",
    "plt.ylim(-20, 20)\n",
    "## ---------------------- ** -------------------- ##\n",
    "\n",
    "plt.title (\"Integración rk G3P12\")\n",
    "plt.grid ()"
   ]
  }
 ],
 "metadata": {
  "kernelspec": {
   "display_name": "Python 3",
   "language": "python",
   "name": "python3"
  },
  "language_info": {
   "codemirror_mode": {
    "name": "ipython",
    "version": 3
   },
   "file_extension": ".py",
   "mimetype": "text/x-python",
   "name": "python",
   "nbconvert_exporter": "python",
   "pygments_lexer": "ipython3",
   "version": "3.7.0"
  }
 },
 "nbformat": 4,
 "nbformat_minor": 2
}
